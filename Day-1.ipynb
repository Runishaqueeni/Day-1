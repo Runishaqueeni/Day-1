{
 "cells": [
  {
   "cell_type": "code",
   "execution_count": null,
   "id": "538f0750-6b99-4e03-8322-543035842019",
   "metadata": {},
   "outputs": [],
   "source": [
    "#python's key features\n",
    "Interpreted and dynamically typed\n",
    "High-level and easy to learn\n",
    "Object-Oriented and functional\n",
    "Rich libraries\n",
    "Cross-platform and Portable"
   ]
  },
  {
   "cell_type": "code",
   "execution_count": null,
   "id": "30684c09-dd5f-467d-9a40-9ef1fce1f8de",
   "metadata": {},
   "outputs": [],
   "source": [
    "#data types\n",
    "Numeric--int,float,complex  #x=10\n",
    "Squence--list,tuple,range   #y=3.14\n",
    "Text--str                   #z=\"hello\"\n",
    "Set types--set,frozenset    #a=[1,2,3]\n",
    "Mapping--dict               #b=(1,2,3)\n",
    "Boolean--bool               #c={1,2,3}"
   ]
  },
  {
   "cell_type": "code",
   "execution_count": null,
   "id": "5a3fad23-d1fd-4326-b36c-35b3f493c9ad",
   "metadata": {},
   "outputs": [],
   "source": [
    "#list,tuple,set\n",
    "List--Ordered,Mutable,allows duplicates         #[1,2,2]\n",
    "Tuple--Ordered,immutable,allows duplicates      #(1,2,2)\n",
    "Set--unordered,mutable,no duplicates            #{1,2,2}"
   ]
  },
  {
   "cell_type": "code",
   "execution_count": null,
   "id": "b79ba99b-afa5-4234-9ffc-c140efd2687e",
   "metadata": {},
   "outputs": [],
   "source": [
    "#diff b/w is and ==\n",
    "is--compares object identity(memory address)\n",
    "==--compare values\n",
    "#a=[1,2,3]\n",
    "#b=[1,2,3]\n",
    "print(a==b)    #true(same values)\n",
    "print(a is b)  #false(different objects)"
   ]
  },
  {
   "cell_type": "code",
   "execution_count": null,
   "id": "69ddc661-8792-40a1-b103-0b119022b93c",
   "metadata": {},
   "outputs": [],
   "source": [
    "#python interpreted\n",
    "python code is compiled to bytecode-executed by Python Virtual Machine(PVM)\n",
    "it is not compiled to machine code diretly like C/C++"
   ]
  },
  {
   "cell_type": "code",
   "execution_count": null,
   "id": "74fbb56a-c112-45dc-adf5-7d6320d3a17d",
   "metadata": {},
   "outputs": [],
   "source": [
    "#mutable Vs immutable\n",
    "Mutable--can be changed after creation(list,dict,set)\n",
    "Immutable--cannot be changed(int,float,str,tuple,frozenset)\n",
    "\n",
    "#x=[1,2,3]\n",
    "#x[0]=10\n",
    "#y=\"hello\"\n",
    "#y[0]=\"h\""
   ]
  },
  {
   "cell_type": "code",
   "execution_count": null,
   "id": "b2f3347b-8675-4a97-b825-d15f0b04d3a0",
   "metadata": {},
   "outputs": [],
   "source": [
    "#python's garbage collection\n",
    "python uses reference counting + cyclic garbage collector\n",
    "when an object's reference count=0,it is deleted automatically"
   ]
  },
  {
   "cell_type": "code",
   "execution_count": null,
   "id": "cda5b60b-6e4e-48fb-b7c9-87d3e25109fb",
   "metadata": {},
   "outputs": [],
   "source": [
    "#PEP 8\n",
    "PEP 8 is python's official style guide for writing clean code\n",
    "Example:\n",
    "use 4 spaces for identation(adding space or tabs)\n",
    "use snake_case for varialbe & functions\n",
    "   use captialized words for class names"
   ]
  },
  {
   "cell_type": "code",
   "execution_count": null,
   "id": "8f087e01-7b8d-4fad-9c77-ac32f7207469",
   "metadata": {},
   "outputs": [],
   "source": [
    "#deep copy vs shallow copy\n",
    "#shallow copy--copies object but references nested objects\n",
    "#deep copy--copies object and all nested objects\n",
    "\n",
    "import copy\n",
    "lst=[[1,2],[3,4]]\n",
    "shallow=copy.copy(lst)\n",
    "deep=copy.deepcopy(lst)\n",
    "\n",
    "lst[0][0]=99\n",
    "print(shallow)\n",
    "print(copy)"
   ]
  },
  {
   "cell_type": "code",
   "execution_count": null,
   "id": "a57ac6b7-8cb7-46ee-8c76-5e5ea38d331e",
   "metadata": {},
   "outputs": [],
   "source": [
    "#built-in data structures\n",
    "list,tuple,set,dict,string,range"
   ]
  },
  {
   "cell_type": "code",
   "execution_count": null,
   "id": "2fd69d4b-0d75-48cb-a1f1-1cd2f7cee1c9",
   "metadata": {},
   "outputs": [],
   "source": [
    "#diff b/w static method,instance method\n",
    "instance method--takes self,works on object data\n",
    "class method--takes cla,works on class data\n",
    "static method--no self/cls,behaves like a normal function inside cls\n",
    "\n",
    "class Example:\n",
    "    class_var=\"Class Level\"\n",
    "\n",
    "def instance_method(self):\n",
    "    return f\"Instance method{self}\"\n",
    "\n",
    "def class_method(cls):\n",
    "    return f\"Class method{cls.class_var}\"\n",
    "\n",
    "def static_method():\n",
    "    return \"Static method{no self/cls}\"\n",
    "\n",
    "obj=Example()\n",
    "print(obj.instance_method())\n",
    "print(Example.class_metho())\n",
    "print(Example.static_method())"
   ]
  },
  {
   "cell_type": "code",
   "execution_count": null,
   "id": "1b6e9620-a340-4645-b730-d61558255a63",
   "metadata": {},
   "outputs": [],
   "source": [
    "#pyhton handle memory management\n",
    "python uses Automatic Memory Management\n",
    "objects are stored in a private heap\n",
    "garbage collection = Reference counting = cyclic garbage collector\n",
    "small objects are cached for ruse(e.g. integers -5 to 256)"
   ]
  },
  {
   "cell_type": "code",
   "execution_count": null,
   "id": "842267da-61e6-4c49-a90d-8265c7c65dc2",
   "metadata": {},
   "outputs": [],
   "source": [
    "#diff b/t iterable an iterator\n",
    "#Iterable--object that can retun an iterator(list,tuple,str)\n",
    "#Iterator--object with __next__()method,returns next item until stopIteration\n",
    "\n",
    "#example:\n",
    "nums=[1,2,3]   #iterable\n",
    "it=iter(nums)   #iterator\n",
    "print(next(it))  #1\n",
    "print(next(it))  #2"
   ]
  },
  {
   "cell_type": "code",
   "execution_count": 1,
   "id": "bb62beb5-ae89-4913-9c7c-d7f79ca979d2",
   "metadata": {},
   "outputs": [
    {
     "name": "stdout",
     "output_type": "stream",
     "text": [
      "hello\n"
     ]
    }
   ],
   "source": [
    "#Reverse string\n",
    "def reverse_string(s):\n",
    "    return \"\".join(s)\n",
    "\n",
    "print(reverse_string(\"hello\"))"
   ]
  },
  {
   "cell_type": "code",
   "execution_count": 7,
   "id": "f4fda8b8-741b-4ef0-8edf-3178a2f68e86",
   "metadata": {},
   "outputs": [
    {
     "name": "stdout",
     "output_type": "stream",
     "text": [
      "True\n"
     ]
    }
   ],
   "source": [
    "#check palindrome\n",
    "def is_palindrome(s):\n",
    "    return s==s[::-1]\n",
    "\n",
    "print(is_palindrome(\"madam\"))"
   ]
  },
  {
   "cell_type": "code",
   "execution_count": 15,
   "id": "fb2ab0ad-f43f-4f65-8239-d105e76a2023",
   "metadata": {},
   "outputs": [
    {
     "name": "stdout",
     "output_type": "stream",
     "text": [
      "120\n"
     ]
    }
   ],
   "source": [
    "#factorial\n",
    "def factorial(n):\n",
    "    return 1 if n==0 else n* factorial(n-1)\n",
    "     #(factoial is def as 1 by math rule)\n",
    "print(factorial(5))"
   ]
  },
  {
   "cell_type": "code",
   "execution_count": 21,
   "id": "469cb316-2b53-4633-ae2f-e586422a68f3",
   "metadata": {},
   "outputs": [
    {
     "name": "stdout",
     "output_type": "stream",
     "text": [
      "[0, 1, 1, 2, 3, 5, 8, 13, 21, 34]\n"
     ]
    }
   ],
   "source": [
    "#fibonacci sequence\n",
    "def fibonacci(n):\n",
    "    a,b=0,1\n",
    "    result=[]\n",
    "    for i in range(n):\n",
    "        result.append(a)\n",
    "        a,b=b,a+b\n",
    "    return result\n",
    "\n",
    "print(fibonacci(10))"
   ]
  },
  {
   "cell_type": "code",
   "execution_count": 23,
   "id": "188792d3-2f2c-426e-9da9-98f35d2a76af",
   "metadata": {},
   "outputs": [
    {
     "name": "stdout",
     "output_type": "stream",
     "text": [
      "59\n"
     ]
    }
   ],
   "source": [
    "#find largest num\n",
    "def largest(lst):\n",
    "    return max(lst)\n",
    "\n",
    "print(largest([56,38,59,50,38,39]))"
   ]
  },
  {
   "cell_type": "code",
   "execution_count": 28,
   "id": "4c0a4c9d-d2b0-4f7f-9979-6bfd83aacb8e",
   "metadata": {},
   "outputs": [
    {
     "name": "stdout",
     "output_type": "stream",
     "text": [
      "Counter({1: 2, 2: 2, 3: 2, 4: 2, 5: 2})\n"
     ]
    }
   ],
   "source": [
    "#count frequency of each element in a list\n",
    "from collections import Counter\n",
    "\n",
    "lst=[1,2,2,3,3,4,4,5,5,1]\n",
    "print(Counter(lst))"
   ]
  },
  {
   "cell_type": "code",
   "execution_count": 35,
   "id": "eac116d5-9fb9-4242-b53a-70da7245b83e",
   "metadata": {},
   "outputs": [
    {
     "name": "stdout",
     "output_type": "stream",
     "text": [
      "True\n"
     ]
    }
   ],
   "source": [
    "#anagram\n",
    "def is_anagram(st1,st2):\n",
    "    return sorted(st1)==sorted(st2)\n",
    "\n",
    "print(is_anagram(\"listen\",\"silent\"))"
   ]
  },
  {
   "cell_type": "code",
   "execution_count": 40,
   "id": "b1410b37-f4db-4424-8204-6f838519d7b4",
   "metadata": {},
   "outputs": [
    {
     "name": "stdout",
     "output_type": "stream",
     "text": [
      "3\n"
     ]
    }
   ],
   "source": [
    "#find missing num in a list(1 to N)\n",
    "def find_missing(lst,n):\n",
    "    return n*(n+1)//2-sum(lst)\n",
    "    #expected sum of num from 1 to n:   n=5\n",
    "    #5*6//2=SUM[1,2,4,5] ------15-12=3\n",
    "\n",
    "print(find_missing([1,2,4,5],5))"
   ]
  },
  {
   "cell_type": "code",
   "execution_count": 43,
   "id": "625256dc-d3c9-4341-a755-0ab9bde14984",
   "metadata": {},
   "outputs": [
    {
     "name": "stdout",
     "output_type": "stream",
     "text": [
      "100\n"
     ]
    }
   ],
   "source": [
    "#second largest num in a list\n",
    "def second_largest(lst):\n",
    "    unique=list(set(lst))\n",
    "    unique.sort()\n",
    "    return unique[-2]\n",
    "\n",
    "print(second_largest([10,20,30,50,100,150]))"
   ]
  },
  {
   "cell_type": "code",
   "execution_count": 45,
   "id": "e1e370b1-4863-480c-bd75-770caae7e77e",
   "metadata": {},
   "outputs": [
    {
     "name": "stdout",
     "output_type": "stream",
     "text": [
      "[1, 2, 3, 4, 5, 6, 7, 9]\n"
     ]
    }
   ],
   "source": [
    "#remove duplicates from a list\n",
    "def remove_duplicates(lst):\n",
    "    return list(set(lst))\n",
    "\n",
    "print(remove_duplicates([1,1,2,2,3,3,3,4,5,6,5,4,6,3,7,9]))"
   ]
  },
  {
   "cell_type": "code",
   "execution_count": 55,
   "id": "f04eebe4-d11c-4872-8351-98d20a095d7f",
   "metadata": {},
   "outputs": [
    {
     "name": "stdout",
     "output_type": "stream",
     "text": [
      "True\n"
     ]
    }
   ],
   "source": [
    "# check if a num is prime\n",
    "def is_prime(n):\n",
    "    if n<2:\n",
    "        return False\n",
    "    for i in range(2,int(n**0.5)+1):\n",
    "        if n%i==0:\n",
    "            return False\n",
    "        return True\n",
    "\n",
    "print(is_prime(29))"
   ]
  },
  {
   "cell_type": "code",
   "execution_count": 58,
   "id": "608b0750-b1c7-4a41-8b13-1e93fa60f921",
   "metadata": {},
   "outputs": [
    {
     "name": "stdout",
     "output_type": "stream",
     "text": [
      "[2, 3]\n"
     ]
    }
   ],
   "source": [
    "#find comman elements b/w two list\n",
    "def common_elements(a,b):\n",
    "    return list(set(a)&set(b))\n",
    "\n",
    "print(common_elements([1,2,3,4],[2,7,3,8]))"
   ]
  },
  {
   "cell_type": "code",
   "execution_count": 59,
   "id": "7eda5e18-640d-4a1a-9a46-d2da703c7cb8",
   "metadata": {},
   "outputs": [
    {
     "name": "stdout",
     "output_type": "stream",
     "text": [
      "True\n"
     ]
    }
   ],
   "source": [
    "#amstrong\n",
    "def is_amstrong(n):\n",
    "    power=len(str(n))\n",
    "    return n==sum(int(d)**power for d in str(n)) #153-- 1^3 + 5^3 + 3^3 = 1 + 125 + 27 = 153\n",
    "\n",
    "print(is_amstrong(153))"
   ]
  },
  {
   "cell_type": "code",
   "execution_count": 60,
   "id": "b1284456-5697-409d-949f-d56eaca3068e",
   "metadata": {},
   "outputs": [
    {
     "name": "stdout",
     "output_type": "stream",
     "text": [
      "programming\n"
     ]
    }
   ],
   "source": [
    "#find longest word in a sentance\n",
    "def longest_word(sentence):\n",
    "    words=sentence.split()\n",
    "    return max(words,key=len)\n",
    "\n",
    "print(longest_word(\"I love programming in python\"))"
   ]
  },
  {
   "cell_type": "code",
   "execution_count": 63,
   "id": "eab27cc5-1227-402a-b4a9-81bf4b6d11b0",
   "metadata": {},
   "outputs": [
    {
     "name": "stdout",
     "output_type": "stream",
     "text": [
      "7\n"
     ]
    }
   ],
   "source": [
    "#count vowels in a string\n",
    "def count_vowel(str):\n",
    "    return sum(1 for ch in str.lower() if ch in \"aeiou\")\n",
    "\n",
    "print(count_vowel(\"Runisha Queeni\"))"
   ]
  },
  {
   "cell_type": "code",
   "execution_count": null,
   "id": "f647c5e0-3d77-4f9d-9732-5f701fc37ae5",
   "metadata": {},
   "outputs": [],
   "source": []
  }
 ],
 "metadata": {
  "kernelspec": {
   "display_name": "Python 3 (ipykernel)",
   "language": "python",
   "name": "python3"
  },
  "language_info": {
   "codemirror_mode": {
    "name": "ipython",
    "version": 3
   },
   "file_extension": ".py",
   "mimetype": "text/x-python",
   "name": "python",
   "nbconvert_exporter": "python",
   "pygments_lexer": "ipython3",
   "version": "3.12.7"
  }
 },
 "nbformat": 4,
 "nbformat_minor": 5
}
